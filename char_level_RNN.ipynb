{
 "cells": [
  {
   "cell_type": "markdown",
   "metadata": {
    "colab_type": "text",
    "id": "WGyKZj3bzf9p"
   },
   "source": [
    "### Import libraries"
   ]
  },
  {
   "cell_type": "code",
   "execution_count": 1,
   "metadata": {
    "colab": {},
    "colab_type": "code",
    "id": "yG_n40gFzf9s"
   },
   "outputs": [],
   "source": [
    "from __future__ import absolute_import, division, print_function\n",
    "\n",
    "import tensorflow as tf\n",
    "tf.enable_eager_execution()\n",
    "\n",
    "import numpy as np\n",
    "import os\n",
    "import time\n",
    "from IPython.display import Image\n"
   ]
  },
  {
   "cell_type": "markdown",
   "metadata": {
    "colab_type": "text",
    "id": "EHDoRoc5PKWz"
   },
   "source": [
    "### Read and Process text"
   ]
  },
  {
   "cell_type": "code",
   "execution_count": 2,
   "metadata": {
    "colab": {},
    "colab_type": "code",
    "id": "aavnuByVymwK"
   },
   "outputs": [
    {
     "name": "stdout",
     "output_type": "stream",
     "text": [
      "Length of text: 859062 characters\n"
     ]
    }
   ],
   "source": [
    "# Read, then decode for py2 compat.\n",
    "data ='short_jokes.txt'\n",
    "text = open(data, 'rb').read().decode(encoding = \"ISO-8859-1\")\n",
    "# length of text is the number of characters in it\n",
    "print ('Length of text: {} characters'.format(len(text)))"
   ]
  },
  {
   "cell_type": "code",
   "execution_count": 3,
   "metadata": {
    "colab": {},
    "colab_type": "code",
    "id": "Duhg9NrUymwO"
   },
   "outputs": [
    {
     "name": "stdout",
     "output_type": "stream",
     "text": [
      "I was eating at an Indian restaurant when a homeless man came in and asked the girl behind the counter if they had any food he could have. She told him there was Naan. [me narrating a documentary about narrators] \"I can't hear what they're saying cuz I'm talking\"\n",
      "I was going to organize a space-themed birthday party for my son... ...but I couldn't planet. Telling my daughter garlic is good for you. Good immune system and keeps pests away.Ticks, mosquitos, vampires... men.\n",
      "Squared My dick is X squared and I rooted your mom. Now she's my X I've been going through a really rough period at work this week It's my own fault for swapping my tampax for sand paper.\n",
      "I call my dick fun Because it's what girls just want to have! If I could have dinner with anyone, dead or alive... ...I would choose alive. -B.J. Novak-\n",
      "Be careful when you ROFL! I once heard a joke in a scissor factory... It left me in stitches. Two guys walk into a bar. The third guy ducks.\n",
      "I'll bet Vampire Kiddies enjoy scabs as m\n"
     ]
    }
   ],
   "source": [
    "# Take a look at the first 1000 characters in text\n",
    "print(text[:1000])"
   ]
  },
  {
   "cell_type": "code",
   "execution_count": 4,
   "metadata": {
    "colab": {},
    "colab_type": "code",
    "id": "IlCgQBRVymwR"
   },
   "outputs": [
    {
     "name": "stdout",
     "output_type": "stream",
     "text": [
      "94 unique characters\n"
     ]
    }
   ],
   "source": [
    "# The unique characters in the file\n",
    "vocab = sorted(set(text))\n",
    "print ('{} unique characters'.format(len(vocab)))"
   ]
  },
  {
   "cell_type": "markdown",
   "metadata": {
    "colab_type": "text",
    "id": "LFjSVAlWzf-N"
   },
   "source": [
    "### Vectorize the text"
   ]
  },
  {
   "cell_type": "code",
   "execution_count": 5,
   "metadata": {
    "colab": {},
    "colab_type": "code",
    "id": "IalZLbvOzf-F"
   },
   "outputs": [],
   "source": [
    "# Creating a mapping from unique characters to indices\n",
    "char2idx = {u:i for i, u in enumerate(vocab)}\n",
    "idx2char = np.array(vocab)\n",
    "\n",
    "text_as_int = np.array([char2idx[c] for c in text])"
   ]
  },
  {
   "cell_type": "markdown",
   "metadata": {
    "colab_type": "text",
    "id": "tZfqhkYCymwX"
   },
   "source": [
    "Now we have an integer representation for each character. Notice that we mapped the character as indexes from 0 to `len(unique)`."
   ]
  },
  {
   "cell_type": "code",
   "execution_count": 6,
   "metadata": {
    "colab": {},
    "colab_type": "code",
    "id": "FYyNlCNXymwY"
   },
   "outputs": [
    {
     "name": "stdout",
     "output_type": "stream",
     "text": [
      "{\n",
      "  '\\n':   0,\n",
      "  ' ' :   1,\n",
      "  '!' :   2,\n",
      "  '\"' :   3,\n",
      "  '#' :   4,\n",
      "  '$' :   5,\n",
      "  '%' :   6,\n",
      "  '&' :   7,\n",
      "  \"'\" :   8,\n",
      "  '(' :   9,\n",
      "  ')' :  10,\n",
      "  '*' :  11,\n",
      "  '+' :  12,\n",
      "  ',' :  13,\n",
      "  '-' :  14,\n",
      "  '.' :  15,\n",
      "  '/' :  16,\n",
      "  '0' :  17,\n",
      "  '1' :  18,\n",
      "  '2' :  19,\n",
      "  ...\n",
      "}\n"
     ]
    }
   ],
   "source": [
    "print('{')\n",
    "for char,_ in zip(char2idx, range(20)):\n",
    "    print('  {:4s}: {:3d},'.format(repr(char), char2idx[char]))\n",
    "print('  ...\\n}')"
   ]
  },
  {
   "cell_type": "code",
   "execution_count": 7,
   "metadata": {
    "colab": {},
    "colab_type": "code",
    "id": "l1VKcQHcymwb"
   },
   "outputs": [
    {
     "name": "stdout",
     "output_type": "stream",
     "text": [
      "'I was eating ' ---- characters mapped to int ---- > [42  1 88 66 84  1 70 66 85 74 79 72  1]\n"
     ]
    }
   ],
   "source": [
    "# Show how the first 13 characters from the text are mapped to integers\n",
    "print ('{} ---- characters mapped to int ---- > {}'.format(repr(text[:13]), text_as_int[:13]))"
   ]
  },
  {
   "cell_type": "markdown",
   "metadata": {
    "colab_type": "text",
    "id": "hgsVvVxnymwf"
   },
   "source": [
    "### Create training examples and targets"
   ]
  },
  {
   "cell_type": "code",
   "execution_count": 8,
   "metadata": {
    "colab": {},
    "colab_type": "code",
    "id": "0UHJDA39zf-O"
   },
   "outputs": [
    {
     "name": "stdout",
     "output_type": "stream",
     "text": [
      "I\n",
      " \n",
      "w\n",
      "a\n",
      "s\n"
     ]
    }
   ],
   "source": [
    "# The maximum length sentence we want for a single input in characters\n",
    "seq_length = 100\n",
    "examples_per_epoch = len(text)//seq_length\n",
    "\n",
    "# Create training examples / targets\n",
    "char_dataset = tf.data.Dataset.from_tensor_slices(text_as_int)\n",
    "\n",
    "for i in char_dataset.take(5):\n",
    "  print(idx2char[i.numpy()])"
   ]
  },
  {
   "cell_type": "code",
   "execution_count": 9,
   "metadata": {
    "colab": {},
    "colab_type": "code",
    "id": "l4hkDU3i7ozi"
   },
   "outputs": [
    {
     "name": "stdout",
     "output_type": "stream",
     "text": [
      "'I was eating at an Indian restaurant when a homeless man came in and asked the girl behind the counte'\n",
      "'r if they had any food he could have. She told him there was Naan. [me narrating a documentary about '\n",
      "'narrators] \"I can\\'t hear what they\\'re saying cuz I\\'m talking\"\\nI was going to organize a space-themed '\n",
      "\"birthday party for my son... ...but I couldn't planet. Telling my daughter garlic is good for you. Go\"\n",
      "'od immune system and keeps pests away.Ticks, mosquitos, vampires... men.\\nSquared My dick is X squared'\n"
     ]
    }
   ],
   "source": [
    "sequences = char_dataset.batch(seq_length+1, drop_remainder=True)\n",
    "\n",
    "for item in sequences.take(5):\n",
    "  print(repr(''.join(idx2char[item.numpy()])))"
   ]
  },
  {
   "cell_type": "code",
   "execution_count": 10,
   "metadata": {
    "colab": {},
    "colab_type": "code",
    "id": "9NGu-FkO_kYU"
   },
   "outputs": [],
   "source": [
    "def split_input_target(chunk):\n",
    "    input_text = chunk[:-1]\n",
    "    target_text = chunk[1:]\n",
    "    return input_text, target_text\n",
    "\n",
    "dataset = sequences.map(split_input_target)"
   ]
  },
  {
   "cell_type": "code",
   "execution_count": 11,
   "metadata": {
    "colab": {},
    "colab_type": "code",
    "id": "GNbw-iR0ymwj"
   },
   "outputs": [
    {
     "name": "stdout",
     "output_type": "stream",
     "text": [
      "Input data:  'I was eating at an Indian restaurant when a homeless man came in and asked the girl behind the count'\n",
      "Target data: ' was eating at an Indian restaurant when a homeless man came in and asked the girl behind the counte'\n"
     ]
    }
   ],
   "source": [
    "for input_example, target_example in  dataset.take(1):\n",
    "  print ('Input data: ', repr(''.join(idx2char[input_example.numpy()])))\n",
    "  print ('Target data:', repr(''.join(idx2char[target_example.numpy()])))"
   ]
  },
  {
   "cell_type": "code",
   "execution_count": 12,
   "metadata": {
    "colab": {},
    "colab_type": "code",
    "id": "0eBu9WZG84i0"
   },
   "outputs": [
    {
     "name": "stdout",
     "output_type": "stream",
     "text": [
      "Step    0\n",
      "  input: 42 ('I')\n",
      "  expected output: 1 (' ')\n",
      "Step    1\n",
      "  input: 1 (' ')\n",
      "  expected output: 88 ('w')\n",
      "Step    2\n",
      "  input: 88 ('w')\n",
      "  expected output: 66 ('a')\n",
      "Step    3\n",
      "  input: 66 ('a')\n",
      "  expected output: 84 ('s')\n",
      "Step    4\n",
      "  input: 84 ('s')\n",
      "  expected output: 1 (' ')\n"
     ]
    }
   ],
   "source": [
    "for i, (input_idx, target_idx) in enumerate(zip(input_example[:5], target_example[:5])):\n",
    "    print(\"Step {:4d}\".format(i))\n",
    "    print(\"  input: {} ({:s})\".format(input_idx, repr(idx2char[input_idx])))\n",
    "    print(\"  expected output: {} ({:s})\".format(target_idx, repr(idx2char[target_idx])))"
   ]
  },
  {
   "cell_type": "markdown",
   "metadata": {
    "colab_type": "text",
    "id": "MJdfPmdqzf-R"
   },
   "source": [
    "### Create training batches\n"
   ]
  },
  {
   "cell_type": "code",
   "execution_count": 13,
   "metadata": {
    "colab": {},
    "colab_type": "code",
    "id": "p2pGotuNzf-S"
   },
   "outputs": [
    {
     "data": {
      "text/plain": [
       "<DatasetV1Adapter shapes: ((64, 100), (64, 100)), types: (tf.int64, tf.int64)>"
      ]
     },
     "execution_count": 13,
     "metadata": {},
     "output_type": "execute_result"
    }
   ],
   "source": [
    "# Setup batch size \n",
    "BATCH_SIZE = 64\n",
    "\n",
    "\n",
    "steps_per_epoch = examples_per_epoch//BATCH_SIZE\n",
    "\n",
    "BUFFER_SIZE = 10000\n",
    "\n",
    "dataset = dataset.shuffle(BUFFER_SIZE).batch(BATCH_SIZE, drop_remainder=True)\n",
    "\n",
    "dataset"
   ]
  },
  {
   "cell_type": "markdown",
   "metadata": {
    "colab_type": "text",
    "id": "r6oUuElIMgVx"
   },
   "source": [
    "## Build The Model"
   ]
  },
  {
   "cell_type": "code",
   "execution_count": 14,
   "metadata": {
    "colab": {},
    "colab_type": "code",
    "id": "zHT8cLh7EAsg"
   },
   "outputs": [],
   "source": [
    "# Length of the vocabulary in chars\n",
    "vocab_size = len(vocab)\n",
    "\n",
    "# The embedding dimension \n",
    "embedding_dim = 256\n",
    "\n",
    "# Number of RNN units\n",
    "rnn_units = 1024"
   ]
  },
  {
   "cell_type": "code",
   "execution_count": 15,
   "metadata": {
    "colab": {},
    "colab_type": "code",
    "id": "wjKZrC39ELy0"
   },
   "outputs": [],
   "source": [
    "#Use GPU\n",
    "if tf.test.is_gpu_available():\n",
    "  rnn = tf.keras.layers.CuDNNGRU\n",
    "  rnn2 = tf.keras.layers.CuDNNGRU\n",
    "else:\n",
    "  import functools\n",
    "  rnn = functools.partial(\n",
    "    tf.keras.layers.GRU, recurrent_activation='sigmoid')"
   ]
  },
  {
   "cell_type": "code",
   "execution_count": 16,
   "metadata": {
    "colab": {},
    "colab_type": "code",
    "id": "MtCrdfzEI2N0"
   },
   "outputs": [],
   "source": [
    "def build_model(vocab_size, embedding_dim, rnn_units, batch_size):\n",
    "  model = tf.keras.Sequential([\n",
    "    tf.keras.layers.Embedding(vocab_size, embedding_dim, \n",
    "                              batch_input_shape=[batch_size, None]),\n",
    "    rnn(rnn_units,\n",
    "        return_sequences=True, \n",
    "        recurrent_initializer='glorot_uniform',\n",
    "        stateful=True),\n",
    "\n",
    "    tf.keras.layers.Dense(vocab_size)\n",
    "  ])\n",
    "  return model"
   ]
  },
  {
   "cell_type": "code",
   "execution_count": 17,
   "metadata": {
    "colab": {},
    "colab_type": "code",
    "id": "wwsrpOik5zhv"
   },
   "outputs": [],
   "source": [
    "model = build_model(\n",
    "  vocab_size = len(vocab), \n",
    "  embedding_dim=embedding_dim, \n",
    "  rnn_units=rnn_units, \n",
    "  batch_size=BATCH_SIZE)"
   ]
  },
  {
   "cell_type": "markdown",
   "metadata": {
    "colab_type": "text",
    "id": "-ubPo0_9Prjb"
   },
   "source": [
    "## Check the model"
   ]
  },
  {
   "cell_type": "code",
   "execution_count": 18,
   "metadata": {
    "colab": {},
    "colab_type": "code",
    "id": "C-_70kKAPrPU"
   },
   "outputs": [
    {
     "name": "stdout",
     "output_type": "stream",
     "text": [
      "(64, 100, 94) # (batch_size, sequence_length, vocab_size)\n"
     ]
    }
   ],
   "source": [
    "for input_example_batch, target_example_batch in dataset.take(1): \n",
    "  example_batch_predictions = model(input_example_batch)\n",
    "  print(example_batch_predictions.shape, \"# (batch_size, sequence_length, vocab_size)\")"
   ]
  },
  {
   "cell_type": "code",
   "execution_count": 19,
   "metadata": {
    "colab": {},
    "colab_type": "code",
    "id": "vPGmAAXmVLGC"
   },
   "outputs": [
    {
     "name": "stdout",
     "output_type": "stream",
     "text": [
      "Model: \"sequential\"\n",
      "_________________________________________________________________\n",
      "Layer (type)                 Output Shape              Param #   \n",
      "=================================================================\n",
      "embedding (Embedding)        (64, None, 256)           24064     \n",
      "_________________________________________________________________\n",
      "cu_dnngru (CuDNNGRU)         (64, None, 1024)          3938304   \n",
      "_________________________________________________________________\n",
      "dense (Dense)                (64, None, 94)            96350     \n",
      "=================================================================\n",
      "Total params: 4,058,718\n",
      "Trainable params: 4,058,718\n",
      "Non-trainable params: 0\n",
      "_________________________________________________________________\n"
     ]
    }
   ],
   "source": [
    "model.summary()"
   ]
  },
  {
   "cell_type": "code",
   "execution_count": 20,
   "metadata": {
    "colab": {},
    "colab_type": "code",
    "id": "4V4MfFg0RQJg"
   },
   "outputs": [],
   "source": [
    "sampled_indices = tf.random.categorical(example_batch_predictions[0], num_samples=1)\n",
    "sampled_indices = tf.squeeze(sampled_indices,axis=-1).numpy()"
   ]
  },
  {
   "cell_type": "code",
   "execution_count": 21,
   "metadata": {
    "colab": {},
    "colab_type": "code",
    "id": "YqFMUQc_UFgM"
   },
   "outputs": [
    {
     "data": {
      "text/plain": [
       "array([22, 59,  5, 45, 73, 49, 69, 72, 74, 37, 75, 74, 43, 87, 72, 79, 72,\n",
       "       16, 40, 80,  1, 50,  8, 84, 57, 38, 77, 89, 42, 45, 69, 49, 36, 42,\n",
       "       43, 43, 66,  7, 20, 33, 23, 90, 22, 83, 22, 18, 63, 26, 41, 59, 63,\n",
       "       62, 22, 31, 91, 31, 62,  9, 63, 56, 88, 35, 86, 46, 30, 89, 90, 18,\n",
       "       68, 25, 24, 67, 49, 81, 64, 27, 68, 49, 64, 37,  8, 22, 76, 35, 63,\n",
       "       54, 67, 78, 75,  8,  8, 45, 89, 20, 72, 58, 86, 82, 23, 93])"
      ]
     },
     "execution_count": 21,
     "metadata": {},
     "output_type": "execute_result"
    }
   ],
   "source": [
    "sampled_indices"
   ]
  },
  {
   "cell_type": "markdown",
   "metadata": {
    "colab_type": "text",
    "id": "LJL0Q0YPY6Ee"
   },
   "source": [
    "## Train the model"
   ]
  },
  {
   "cell_type": "code",
   "execution_count": 22,
   "metadata": {
    "colab": {},
    "colab_type": "code",
    "id": "4HrXTACTdzY-"
   },
   "outputs": [
    {
     "name": "stdout",
     "output_type": "stream",
     "text": [
      "Prediction shape:  (64, 100, 94)  # (batch_size, sequence_length, vocab_size)\n",
      "scalar_loss:       4.544327\n"
     ]
    }
   ],
   "source": [
    "#define a loss function\n",
    "def loss(labels, logits):\n",
    "  return tf.keras.losses.sparse_categorical_crossentropy(labels, logits, from_logits=True)\n",
    "\n",
    "example_batch_loss  = loss(target_example_batch, example_batch_predictions)\n",
    "print(\"Prediction shape: \", example_batch_predictions.shape, \" # (batch_size, sequence_length, vocab_size)\") \n",
    "print(\"scalar_loss:      \", example_batch_loss.numpy().mean())"
   ]
  },
  {
   "cell_type": "code",
   "execution_count": 23,
   "metadata": {
    "colab": {},
    "colab_type": "code",
    "id": "DDl1_Een6rL0"
   },
   "outputs": [],
   "source": [
    "#compile the model\n",
    "model.compile(\n",
    "    optimizer = tf.train.AdamOptimizer(),\n",
    "    loss = loss)"
   ]
  },
  {
   "cell_type": "markdown",
   "metadata": {
    "colab_type": "text",
    "id": "ieSJdchZggUj"
   },
   "source": [
    "### Configure checkpoints"
   ]
  },
  {
   "cell_type": "code",
   "execution_count": 24,
   "metadata": {
    "colab": {},
    "colab_type": "code",
    "id": "W6fWTriUZP-n"
   },
   "outputs": [],
   "source": [
    "# Directory where the checkpoints will be saved\n",
    "checkpoint_dir = './training'\n",
    "\n",
    "# Name of the checkpoint files\n",
    "checkpoint_prefix = os.path.join(checkpoint_dir, \"ckpt_{epoch}\")\n",
    "\n",
    "checkpoint_callback=tf.keras.callbacks.ModelCheckpoint(\n",
    "    filepath=checkpoint_prefix,\n",
    "    save_weights_only=True)"
   ]
  },
  {
   "cell_type": "markdown",
   "metadata": {
    "colab_type": "text",
    "id": "3Ky3F_BhgkTW"
   },
   "source": [
    "### Execute the training"
   ]
  },
  {
   "cell_type": "code",
   "execution_count": 25,
   "metadata": {
    "colab": {},
    "colab_type": "code",
    "id": "7yGBE2zxMMHs"
   },
   "outputs": [],
   "source": [
    "EPOCHS=300"
   ]
  },
  {
   "cell_type": "code",
   "execution_count": 26,
   "metadata": {
    "colab": {},
    "colab_type": "code",
    "id": "UK-hmKjYVoll",
    "scrolled": true
   },
   "outputs": [
    {
     "name": "stdout",
     "output_type": "stream",
     "text": [
      "Epoch 1/300\n",
      "134/134 [==============================] - 8s 58ms/step - loss: 2.9542\n",
      "Epoch 2/300\n",
      "134/134 [==============================] - 6s 43ms/step - loss: 2.2269\n",
      "Epoch 3/300\n",
      "134/134 [==============================] - 6s 42ms/step - loss: 1.9823\n",
      "Epoch 4/300\n",
      "134/134 [==============================] - 6s 43ms/step - loss: 1.8146\n",
      "Epoch 5/300\n",
      "134/134 [==============================] - 6s 42ms/step - loss: 1.6927\n",
      "Epoch 6/300\n",
      "134/134 [==============================] - 6s 43ms/step - loss: 1.6021\n",
      "Epoch 7/300\n",
      "134/134 [==============================] - 6s 42ms/step - loss: 1.5301: 0s - loss\n",
      "Epoch 8/300\n",
      "134/134 [==============================] - 6s 44ms/step - loss: 1.4679\n",
      "Epoch 9/300\n",
      "134/134 [==============================] - 6s 43ms/step - loss: 1.4136\n",
      "Epoch 10/300\n",
      "134/134 [==============================] - 6s 44ms/step - loss: 1.3605\n",
      "Epoch 11/300\n",
      "134/134 [==============================] - 6s 43ms/step - loss: 1.3106\n",
      "Epoch 12/300\n",
      "134/134 [==============================] - 6s 43ms/step - loss: 1.2627\n",
      "Epoch 13/300\n",
      "134/134 [==============================] - 6s 43ms/step - loss: 1.2117\n",
      "Epoch 14/300\n",
      "134/134 [==============================] - 6s 43ms/step - loss: 1.1588\n",
      "Epoch 15/300\n",
      "134/134 [==============================] - 6s 43ms/step - loss: 1.1071\n",
      "Epoch 16/300\n",
      "134/134 [==============================] - 6s 45ms/step - loss: 1.0576\n",
      "Epoch 17/300\n",
      "134/134 [==============================] - 6s 44ms/step - loss: 1.0036\n",
      "Epoch 18/300\n",
      "134/134 [==============================] - 6s 43ms/step - loss: 0.9546\n",
      "Epoch 19/300\n",
      "134/134 [==============================] - 6s 44ms/step - loss: 0.9024\n",
      "Epoch 20/300\n",
      "134/134 [==============================] - 6s 43ms/step - loss: 0.8586\n",
      "Epoch 21/300\n",
      "134/134 [==============================] - 6s 44ms/step - loss: 0.8159\n",
      "Epoch 22/300\n",
      "134/134 [==============================] - 6s 43ms/step - loss: 0.7799\n",
      "Epoch 23/300\n",
      "134/134 [==============================] - 6s 44ms/step - loss: 0.7458\n",
      "Epoch 24/300\n",
      "134/134 [==============================] - 6s 43ms/step - loss: 0.7169\n",
      "Epoch 25/300\n",
      "134/134 [==============================] - 6s 44ms/step - loss: 0.6922\n",
      "Epoch 26/300\n",
      "134/134 [==============================] - 6s 44ms/step - loss: 0.6690\n",
      "Epoch 27/300\n",
      "134/134 [==============================] - 6s 45ms/step - loss: 0.6495\n",
      "Epoch 28/300\n",
      "134/134 [==============================] - 6s 45ms/step - loss: 0.6348\n",
      "Epoch 29/300\n",
      "134/134 [==============================] - 6s 43ms/step - loss: 0.6203\n",
      "Epoch 30/300\n",
      "134/134 [==============================] - 6s 45ms/step - loss: 0.6096\n",
      "Epoch 31/300\n",
      "134/134 [==============================] - 6s 43ms/step - loss: 0.5987\n",
      "Epoch 32/300\n",
      "134/134 [==============================] - 6s 45ms/step - loss: 0.5889\n",
      "Epoch 33/300\n",
      "134/134 [==============================] - 6s 44ms/step - loss: 0.5842: 0s - loss: 0.584\n",
      "Epoch 34/300\n",
      "134/134 [==============================] - 6s 45ms/step - loss: 0.5741\n",
      "Epoch 35/300\n",
      "134/134 [==============================] - 6s 45ms/step - loss: 0.5698\n",
      "Epoch 36/300\n",
      "134/134 [==============================] - 6s 45ms/step - loss: 0.5631\n",
      "Epoch 37/300\n",
      "134/134 [==============================] - 6s 45ms/step - loss: 0.5564\n",
      "Epoch 38/300\n",
      "134/134 [==============================] - 6s 44ms/step - loss: 0.5536\n",
      "Epoch 39/300\n",
      "134/134 [==============================] - 6s 43ms/step - loss: 0.5529\n",
      "Epoch 40/300\n",
      "134/134 [==============================] - 6s 44ms/step - loss: 0.5501\n",
      "Epoch 41/300\n",
      "134/134 [==============================] - 6s 45ms/step - loss: 0.5462\n",
      "Epoch 42/300\n",
      "134/134 [==============================] - 6s 43ms/step - loss: 0.5438\n",
      "Epoch 43/300\n",
      "134/134 [==============================] - 6s 44ms/step - loss: 0.5432\n",
      "Epoch 44/300\n",
      "134/134 [==============================] - 6s 43ms/step - loss: 0.5398\n",
      "Epoch 45/300\n",
      "134/134 [==============================] - 6s 44ms/step - loss: 0.5406\n",
      "Epoch 46/300\n",
      "134/134 [==============================] - 6s 43ms/step - loss: 0.5401\n",
      "Epoch 47/300\n",
      "134/134 [==============================] - 6s 44ms/step - loss: 0.5372\n",
      "Epoch 48/300\n",
      "134/134 [==============================] - 6s 44ms/step - loss: 0.5352\n",
      "Epoch 49/300\n",
      "134/134 [==============================] - 6s 43ms/step - loss: 0.5323\n",
      "Epoch 50/300\n",
      "134/134 [==============================] - 6s 45ms/step - loss: 0.5362\n",
      "Epoch 51/300\n",
      "134/134 [==============================] - 6s 44ms/step - loss: 0.5349\n",
      "Epoch 52/300\n",
      "134/134 [==============================] - 6s 43ms/step - loss: 0.5360\n",
      "Epoch 53/300\n",
      "134/134 [==============================] - 6s 43ms/step - loss: 0.5355\n",
      "Epoch 54/300\n",
      "134/134 [==============================] - 6s 44ms/step - loss: 0.5367\n",
      "Epoch 55/300\n",
      "134/134 [==============================] - 6s 42ms/step - loss: 0.5373\n",
      "Epoch 56/300\n",
      "134/134 [==============================] - 6s 44ms/step - loss: 0.5404\n",
      "Epoch 57/300\n",
      "134/134 [==============================] - 6s 44ms/step - loss: 0.5405\n",
      "Epoch 58/300\n",
      "134/134 [==============================] - 6s 44ms/step - loss: 0.5407\n",
      "Epoch 59/300\n",
      "134/134 [==============================] - 6s 44ms/step - loss: 0.5395\n",
      "Epoch 60/300\n",
      "134/134 [==============================] - 6s 45ms/step - loss: 0.5386\n",
      "Epoch 61/300\n",
      "134/134 [==============================] - 6s 45ms/step - loss: 0.5440\n",
      "Epoch 62/300\n",
      "134/134 [==============================] - 6s 43ms/step - loss: 0.5485\n",
      "Epoch 63/300\n",
      "134/134 [==============================] - 6s 43ms/step - loss: 0.5471\n",
      "Epoch 64/300\n",
      "134/134 [==============================] - 6s 45ms/step - loss: 0.5488\n",
      "Epoch 65/300\n",
      "134/134 [==============================] - 6s 43ms/step - loss: 0.5520\n",
      "Epoch 66/300\n",
      "134/134 [==============================] - 6s 45ms/step - loss: 0.5534\n",
      "Epoch 67/300\n",
      "134/134 [==============================] - 7s 50ms/step - loss: 0.5564\n",
      "Epoch 68/300\n",
      "134/134 [==============================] - 6s 44ms/step - loss: 0.5599\n",
      "Epoch 69/300\n",
      "134/134 [==============================] - 6s 44ms/step - loss: 0.5612\n",
      "Epoch 70/300\n",
      "134/134 [==============================] - 6s 43ms/step - loss: 0.5656\n",
      "Epoch 71/300\n",
      "134/134 [==============================] - 6s 45ms/step - loss: 0.5675\n",
      "Epoch 72/300\n",
      "134/134 [==============================] - 6s 44ms/step - loss: 0.5801\n",
      "Epoch 73/300\n",
      "134/134 [==============================] - 6s 43ms/step - loss: 0.5920\n",
      "Epoch 74/300\n",
      "134/134 [==============================] - 6s 43ms/step - loss: 0.5921\n",
      "Epoch 75/300\n",
      "134/134 [==============================] - 6s 44ms/step - loss: 0.5966\n",
      "Epoch 76/300\n",
      "134/134 [==============================] - 6s 43ms/step - loss: 0.5957\n",
      "Epoch 77/300\n",
      "134/134 [==============================] - 6s 45ms/step - loss: 0.5995\n",
      "Epoch 78/300\n",
      "134/134 [==============================] - 6s 44ms/step - loss: 0.6006\n",
      "Epoch 79/300\n",
      "134/134 [==============================] - 6s 44ms/step - loss: 0.6059\n",
      "Epoch 80/300\n",
      "134/134 [==============================] - 6s 43ms/step - loss: 0.6126\n",
      "Epoch 81/300\n",
      "134/134 [==============================] - 6s 43ms/step - loss: 0.6218\n",
      "Epoch 82/300\n",
      "134/134 [==============================] - 6s 43ms/step - loss: 0.6277\n",
      "Epoch 83/300\n",
      "134/134 [==============================] - 6s 44ms/step - loss: 0.6352\n",
      "Epoch 84/300\n",
      "134/134 [==============================] - 6s 43ms/step - loss: 0.6398\n",
      "Epoch 85/300\n",
      "134/134 [==============================] - 6s 45ms/step - loss: 0.6496\n",
      "Epoch 86/300\n",
      "134/134 [==============================] - 6s 44ms/step - loss: 0.6611\n",
      "Epoch 87/300\n",
      "134/134 [==============================] - 6s 44ms/step - loss: 0.6640\n",
      "Epoch 88/300\n",
      "134/134 [==============================] - 6s 43ms/step - loss: 0.6721\n",
      "Epoch 89/300\n",
      "134/134 [==============================] - 6s 43ms/step - loss: 0.6889\n",
      "Epoch 90/300\n",
      "134/134 [==============================] - 6s 45ms/step - loss: 0.7048\n",
      "Epoch 91/300\n",
      "134/134 [==============================] - 6s 44ms/step - loss: 0.7214\n",
      "Epoch 92/300\n",
      "134/134 [==============================] - 6s 44ms/step - loss: 0.7322\n",
      "Epoch 93/300\n",
      "134/134 [==============================] - 6s 43ms/step - loss: 0.7511\n",
      "Epoch 94/300\n",
      "134/134 [==============================] - 6s 43ms/step - loss: 0.7684\n",
      "Epoch 95/300\n",
      "134/134 [==============================] - 6s 43ms/step - loss: 0.7970\n",
      "Epoch 96/300\n",
      "134/134 [==============================] - 6s 43ms/step - loss: 0.8093\n",
      "Epoch 97/300\n",
      "134/134 [==============================] - 6s 45ms/step - loss: 0.8219\n",
      "Epoch 98/300\n",
      "134/134 [==============================] - 6s 44ms/step - loss: 0.8421\n",
      "Epoch 99/300\n",
      "134/134 [==============================] - 6s 44ms/step - loss: 0.8563\n",
      "Epoch 100/300\n",
      "134/134 [==============================] - 6s 44ms/step - loss: 0.8850\n",
      "Epoch 101/300\n",
      "134/134 [==============================] - 6s 44ms/step - loss: 0.8992\n",
      "Epoch 102/300\n",
      "134/134 [==============================] - 6s 45ms/step - loss: 0.9173\n",
      "Epoch 103/300\n",
      "134/134 [==============================] - 6s 43ms/step - loss: 0.9515\n",
      "Epoch 104/300\n",
      "134/134 [==============================] - 6s 43ms/step - loss: 0.9693\n",
      "Epoch 105/300\n",
      "134/134 [==============================] - 6s 42ms/step - loss: 1.0069\n",
      "Epoch 106/300\n",
      "134/134 [==============================] - 6s 44ms/step - loss: 1.0570\n",
      "Epoch 107/300\n",
      "134/134 [==============================] - 6s 44ms/step - loss: 1.0810\n",
      "Epoch 108/300\n",
      "134/134 [==============================] - 6s 44ms/step - loss: 1.1192\n",
      "Epoch 109/300\n",
      "134/134 [==============================] - 6s 44ms/step - loss: 1.1566\n",
      "Epoch 110/300\n",
      "134/134 [==============================] - 6s 44ms/step - loss: 1.1600\n",
      "Epoch 111/300\n",
      "134/134 [==============================] - 6s 43ms/step - loss: 1.1917\n",
      "Epoch 112/300\n",
      "134/134 [==============================] - 6s 43ms/step - loss: 1.2179\n",
      "Epoch 113/300\n",
      "134/134 [==============================] - 6s 43ms/step - loss: 1.2372\n",
      "Epoch 114/300\n",
      "134/134 [==============================] - 6s 45ms/step - loss: 1.2563\n",
      "Epoch 115/300\n",
      "134/134 [==============================] - 6s 45ms/step - loss: 1.2666\n",
      "Epoch 116/300\n",
      "134/134 [==============================] - 6s 45ms/step - loss: 1.2675\n",
      "Epoch 117/300\n",
      "134/134 [==============================] - 6s 43ms/step - loss: 1.2955\n",
      "Epoch 118/300\n",
      "134/134 [==============================] - 6s 44ms/step - loss: 1.3213\n",
      "Epoch 119/300\n",
      "134/134 [==============================] - 6s 44ms/step - loss: 1.3820\n",
      "Epoch 120/300\n",
      "134/134 [==============================] - 6s 43ms/step - loss: 1.3939\n",
      "Epoch 121/300\n",
      "134/134 [==============================] - 6s 44ms/step - loss: 1.4217\n",
      "Epoch 122/300\n",
      "134/134 [==============================] - 6s 44ms/step - loss: 1.4443\n",
      "Epoch 123/300\n",
      "134/134 [==============================] - 6s 44ms/step - loss: 1.4585\n",
      "Epoch 124/300\n",
      "134/134 [==============================] - 6s 42ms/step - loss: 1.4468\n",
      "Epoch 125/300\n",
      "134/134 [==============================] - 6s 44ms/step - loss: 1.4394\n",
      "Epoch 126/300\n",
      "134/134 [==============================] - 6s 44ms/step - loss: 1.4361\n",
      "Epoch 127/300\n",
      "134/134 [==============================] - 6s 45ms/step - loss: 1.4413\n",
      "Epoch 128/300\n",
      "134/134 [==============================] - 6s 43ms/step - loss: 1.4488\n",
      "Epoch 129/300\n",
      "134/134 [==============================] - 6s 44ms/step - loss: 1.4980\n",
      "Epoch 130/300\n",
      "134/134 [==============================] - 6s 44ms/step - loss: 1.5408\n",
      "Epoch 131/300\n",
      "134/134 [==============================] - 6s 44ms/step - loss: 1.5848\n",
      "Epoch 132/300\n",
      "134/134 [==============================] - 6s 44ms/step - loss: 1.6974\n",
      "Epoch 133/300\n",
      "134/134 [==============================] - 7s 51ms/step - loss: 1.8493\n",
      "Epoch 134/300\n",
      "134/134 [==============================] - 6s 44ms/step - loss: 1.9266\n",
      "Epoch 135/300\n",
      "134/134 [==============================] - 6s 43ms/step - loss: 2.0228\n",
      "Epoch 136/300\n",
      "134/134 [==============================] - 6s 43ms/step - loss: 1.9797\n",
      "Epoch 137/300\n",
      "134/134 [==============================] - 6s 44ms/step - loss: 1.9522\n",
      "Epoch 138/300\n",
      "134/134 [==============================] - 6s 44ms/step - loss: 1.9300\n",
      "Epoch 139/300\n",
      "134/134 [==============================] - 6s 45ms/step - loss: 1.9138\n",
      "Epoch 140/300\n",
      "134/134 [==============================] - 6s 43ms/step - loss: 1.8935\n",
      "Epoch 141/300\n",
      "134/134 [==============================] - 6s 43ms/step - loss: 1.8700\n",
      "Epoch 142/300\n",
      "134/134 [==============================] - 6s 44ms/step - loss: 1.8512\n",
      "Epoch 143/300\n",
      "134/134 [==============================] - 6s 43ms/step - loss: 1.8348\n",
      "Epoch 144/300\n",
      "134/134 [==============================] - 6s 43ms/step - loss: 1.8153\n",
      "Epoch 145/300\n",
      "134/134 [==============================] - 6s 44ms/step - loss: 1.8024\n",
      "Epoch 146/300\n",
      "134/134 [==============================] - 6s 44ms/step - loss: 1.7892\n",
      "Epoch 147/300\n",
      "134/134 [==============================] - 6s 43ms/step - loss: 1.7709\n",
      "Epoch 148/300\n",
      "134/134 [==============================] - 6s 44ms/step - loss: 1.7592\n",
      "Epoch 149/300\n",
      "134/134 [==============================] - 6s 43ms/step - loss: 1.7397\n",
      "Epoch 150/300\n",
      "134/134 [==============================] - 6s 45ms/step - loss: 1.7295\n",
      "Epoch 151/300\n",
      "134/134 [==============================] - 6s 44ms/step - loss: 1.7089\n",
      "Epoch 152/300\n",
      "134/134 [==============================] - 6s 45ms/step - loss: 1.6996\n",
      "Epoch 153/300\n",
      "134/134 [==============================] - 6s 44ms/step - loss: 1.6813\n",
      "Epoch 154/300\n",
      "134/134 [==============================] - 6s 44ms/step - loss: 1.6652\n",
      "Epoch 155/300\n",
      "134/134 [==============================] - 6s 43ms/step - loss: 1.6509\n",
      "Epoch 156/300\n",
      "134/134 [==============================] - 6s 43ms/step - loss: 1.6369\n",
      "Epoch 157/300\n",
      "134/134 [==============================] - 6s 43ms/step - loss: 1.6241\n",
      "Epoch 158/300\n",
      "134/134 [==============================] - 6s 45ms/step - loss: 1.6090\n",
      "Epoch 159/300\n",
      "134/134 [==============================] - 6s 45ms/step - loss: 1.6000\n",
      "Epoch 160/300\n",
      "134/134 [==============================] - 6s 43ms/step - loss: 1.5924\n",
      "Epoch 161/300\n",
      "134/134 [==============================] - 6s 43ms/step - loss: 1.5730\n",
      "Epoch 162/300\n",
      "134/134 [==============================] - 6s 43ms/step - loss: 1.5612\n",
      "Epoch 163/300\n",
      "134/134 [==============================] - 6s 44ms/step - loss: 1.5472\n",
      "Epoch 164/300\n",
      "134/134 [==============================] - 6s 44ms/step - loss: 1.5302\n",
      "Epoch 165/300\n",
      "134/134 [==============================] - 6s 45ms/step - loss: 1.5220\n",
      "Epoch 166/300\n",
      "134/134 [==============================] - 6s 43ms/step - loss: 1.5084\n",
      "Epoch 167/300\n",
      "134/134 [==============================] - 6s 44ms/step - loss: 1.4961\n",
      "Epoch 168/300\n",
      "134/134 [==============================] - 6s 44ms/step - loss: 1.4845\n",
      "Epoch 169/300\n",
      "134/134 [==============================] - 6s 44ms/step - loss: 1.4735\n",
      "Epoch 170/300\n",
      "134/134 [==============================] - 6s 43ms/step - loss: 1.4700\n",
      "Epoch 171/300\n",
      "134/134 [==============================] - 6s 44ms/step - loss: 1.4520\n",
      "Epoch 172/300\n",
      "134/134 [==============================] - 6s 43ms/step - loss: 1.4540\n",
      "Epoch 173/300\n",
      "134/134 [==============================] - 6s 45ms/step - loss: 1.4394\n",
      "Epoch 174/300\n",
      "134/134 [==============================] - 6s 45ms/step - loss: 1.4392\n",
      "Epoch 175/300\n",
      "134/134 [==============================] - 6s 45ms/step - loss: 1.4297\n",
      "Epoch 176/300\n",
      "134/134 [==============================] - 6s 45ms/step - loss: 1.4157\n",
      "Epoch 177/300\n",
      "134/134 [==============================] - 6s 45ms/step - loss: 1.4115\n",
      "Epoch 178/300\n",
      "134/134 [==============================] - 6s 44ms/step - loss: 1.4002\n",
      "Epoch 179/300\n",
      "134/134 [==============================] - 6s 43ms/step - loss: 1.3971\n",
      "Epoch 180/300\n",
      "134/134 [==============================] - 6s 44ms/step - loss: 1.4024\n",
      "Epoch 181/300\n",
      "134/134 [==============================] - 6s 44ms/step - loss: 1.3988: 1\n",
      "Epoch 182/300\n",
      "134/134 [==============================] - 6s 43ms/step - loss: 1.3884\n",
      "Epoch 183/300\n",
      "134/134 [==============================] - 6s 44ms/step - loss: 1.3896\n",
      "Epoch 184/300\n",
      "134/134 [==============================] - 6s 44ms/step - loss: 1.3970\n",
      "Epoch 185/300\n",
      "134/134 [==============================] - 6s 44ms/step - loss: 1.3851\n",
      "Epoch 186/300\n",
      "134/134 [==============================] - 6s 44ms/step - loss: 1.3890\n",
      "Epoch 187/300\n",
      "134/134 [==============================] - 6s 44ms/step - loss: 1.3953\n",
      "Epoch 188/300\n",
      "134/134 [==============================] - 6s 43ms/step - loss: 1.3873\n",
      "Epoch 189/300\n",
      "134/134 [==============================] - 6s 45ms/step - loss: 1.3808\n",
      "Epoch 190/300\n",
      "134/134 [==============================] - 6s 44ms/step - loss: 1.3746\n",
      "Epoch 191/300\n",
      "134/134 [==============================] - 6s 43ms/step - loss: 1.3727\n",
      "Epoch 192/300\n",
      "134/134 [==============================] - 6s 44ms/step - loss: 1.3724\n",
      "Epoch 193/300\n",
      "134/134 [==============================] - 6s 43ms/step - loss: 1.3660\n",
      "Epoch 194/300\n",
      "134/134 [==============================] - 6s 43ms/step - loss: 1.3709\n",
      "Epoch 195/300\n",
      "134/134 [==============================] - 6s 45ms/step - loss: 1.3801\n",
      "Epoch 196/300\n",
      "134/134 [==============================] - 6s 44ms/step - loss: 1.4013\n",
      "Epoch 197/300\n",
      "134/134 [==============================] - 6s 43ms/step - loss: 1.3985\n",
      "Epoch 198/300\n",
      "134/134 [==============================] - 6s 44ms/step - loss: 1.3808\n",
      "Epoch 199/300\n",
      "134/134 [==============================] - 7s 53ms/step - loss: 1.3762\n",
      "Epoch 200/300\n",
      "134/134 [==============================] - 6s 44ms/step - loss: 1.3688\n",
      "Epoch 201/300\n",
      "134/134 [==============================] - 6s 43ms/step - loss: 1.3719\n",
      "Epoch 202/300\n",
      "134/134 [==============================] - 6s 44ms/step - loss: 1.3761\n",
      "Epoch 203/300\n",
      "134/134 [==============================] - 6s 43ms/step - loss: 1.3774\n",
      "Epoch 204/300\n",
      "134/134 [==============================] - 6s 43ms/step - loss: 1.3832\n",
      "Epoch 205/300\n",
      "134/134 [==============================] - 6s 44ms/step - loss: 1.3976\n",
      "Epoch 206/300\n",
      "134/134 [==============================] - 6s 43ms/step - loss: 1.4016\n",
      "Epoch 207/300\n",
      "134/134 [==============================] - 6s 44ms/step - loss: 1.4473\n",
      "Epoch 208/300\n",
      "134/134 [==============================] - 6s 44ms/step - loss: 1.4766\n",
      "Epoch 209/300\n",
      "134/134 [==============================] - 6s 43ms/step - loss: 1.4864\n",
      "Epoch 210/300\n",
      "134/134 [==============================] - 6s 45ms/step - loss: 1.4676\n",
      "Epoch 211/300\n",
      "134/134 [==============================] - 6s 44ms/step - loss: 1.4875\n",
      "Epoch 212/300\n",
      "134/134 [==============================] - 6s 43ms/step - loss: 1.5549\n",
      "Epoch 213/300\n",
      "134/134 [==============================] - 6s 44ms/step - loss: 1.6098\n",
      "Epoch 214/300\n",
      "134/134 [==============================] - 6s 44ms/step - loss: 1.6304\n",
      "Epoch 215/300\n",
      "134/134 [==============================] - 6s 43ms/step - loss: 1.7334\n",
      "Epoch 216/300\n",
      "134/134 [==============================] - 6s 43ms/step - loss: 1.8188\n",
      "Epoch 217/300\n",
      "134/134 [==============================] - 6s 44ms/step - loss: 2.3062\n",
      "Epoch 218/300\n",
      "134/134 [==============================] - 6s 44ms/step - loss: 2.2496\n",
      "Epoch 219/300\n",
      "134/134 [==============================] - 6s 44ms/step - loss: 2.2238\n",
      "Epoch 220/300\n",
      "134/134 [==============================] - 6s 44ms/step - loss: 2.1535\n",
      "Epoch 221/300\n",
      "134/134 [==============================] - 6s 44ms/step - loss: 2.1368\n",
      "Epoch 222/300\n",
      "134/134 [==============================] - 6s 45ms/step - loss: 2.1212\n",
      "Epoch 223/300\n",
      "134/134 [==============================] - 6s 42ms/step - loss: 2.0855\n",
      "Epoch 224/300\n",
      "134/134 [==============================] - 6s 43ms/step - loss: 2.0738\n",
      "Epoch 225/300\n",
      "134/134 [==============================] - 6s 43ms/step - loss: 2.0763\n",
      "Epoch 226/300\n",
      "134/134 [==============================] - 6s 44ms/step - loss: 2.0797\n",
      "Epoch 227/300\n",
      "134/134 [==============================] - 6s 43ms/step - loss: 2.0667\n",
      "Epoch 228/300\n",
      "134/134 [==============================] - 6s 44ms/step - loss: 2.0490\n",
      "Epoch 229/300\n",
      "134/134 [==============================] - 6s 44ms/step - loss: 2.0437\n",
      "Epoch 230/300\n",
      "134/134 [==============================] - 6s 42ms/step - loss: 2.0397\n",
      "Epoch 231/300\n",
      "134/134 [==============================] - 6s 44ms/step - loss: 2.0435\n",
      "Epoch 232/300\n",
      "134/134 [==============================] - 6s 44ms/step - loss: 2.0352\n",
      "Epoch 233/300\n",
      "134/134 [==============================] - 6s 43ms/step - loss: 2.0329\n",
      "Epoch 234/300\n",
      "134/134 [==============================] - 6s 44ms/step - loss: 2.0331\n",
      "Epoch 235/300\n",
      "134/134 [==============================] - 6s 43ms/step - loss: 2.0367\n",
      "Epoch 236/300\n",
      "134/134 [==============================] - 6s 43ms/step - loss: 2.0373\n",
      "Epoch 237/300\n",
      "134/134 [==============================] - 6s 44ms/step - loss: 2.0360\n",
      "Epoch 238/300\n",
      "134/134 [==============================] - 6s 44ms/step - loss: 2.0441\n",
      "Epoch 239/300\n",
      "134/134 [==============================] - 6s 44ms/step - loss: 2.0381\n",
      "Epoch 240/300\n",
      "134/134 [==============================] - 6s 44ms/step - loss: 2.0315\n",
      "Epoch 241/300\n",
      "134/134 [==============================] - 6s 43ms/step - loss: 2.0261\n",
      "Epoch 242/300\n",
      "134/134 [==============================] - 6s 44ms/step - loss: 2.0244\n",
      "Epoch 243/300\n",
      "134/134 [==============================] - 6s 44ms/step - loss: 2.0215\n",
      "Epoch 244/300\n",
      "134/134 [==============================] - 6s 44ms/step - loss: 2.0247\n",
      "Epoch 245/300\n",
      "134/134 [==============================] - 6s 43ms/step - loss: 2.0172\n",
      "Epoch 246/300\n",
      "134/134 [==============================] - 6s 43ms/step - loss: 2.0358\n",
      "Epoch 247/300\n",
      "134/134 [==============================] - 6s 43ms/step - loss: 2.0286\n",
      "Epoch 248/300\n",
      "134/134 [==============================] - 6s 44ms/step - loss: 2.0253\n",
      "Epoch 249/300\n",
      "134/134 [==============================] - 6s 45ms/step - loss: 2.0236\n",
      "Epoch 250/300\n",
      "134/134 [==============================] - 6s 43ms/step - loss: 2.0177\n",
      "Epoch 251/300\n",
      "134/134 [==============================] - 6s 45ms/step - loss: 2.0198\n",
      "Epoch 252/300\n",
      "134/134 [==============================] - 6s 43ms/step - loss: 2.0184\n",
      "Epoch 253/300\n",
      "134/134 [==============================] - 6s 44ms/step - loss: 2.0160\n",
      "Epoch 254/300\n",
      "134/134 [==============================] - 6s 43ms/step - loss: 2.0109\n",
      "Epoch 255/300\n",
      "134/134 [==============================] - 6s 44ms/step - loss: 2.0127\n",
      "Epoch 256/300\n",
      "134/134 [==============================] - 6s 42ms/step - loss: 2.0095\n",
      "Epoch 257/300\n",
      "134/134 [==============================] - 6s 44ms/step - loss: 2.0096\n",
      "Epoch 258/300\n",
      "134/134 [==============================] - 6s 44ms/step - loss: 2.0069\n",
      "Epoch 259/300\n",
      "134/134 [==============================] - 6s 44ms/step - loss: 2.0084\n",
      "Epoch 260/300\n",
      "134/134 [==============================] - 6s 45ms/step - loss: 2.0104\n",
      "Epoch 261/300\n",
      "134/134 [==============================] - 6s 45ms/step - loss: 2.0078\n",
      "Epoch 262/300\n",
      "134/134 [==============================] - 6s 43ms/step - loss: 2.0056\n",
      "Epoch 263/300\n",
      "134/134 [==============================] - 6s 43ms/step - loss: 2.0058\n",
      "Epoch 264/300\n",
      "134/134 [==============================] - 6s 44ms/step - loss: 2.0028\n",
      "Epoch 265/300\n",
      "134/134 [==============================] - 7s 51ms/step - loss: 2.0020\n",
      "Epoch 266/300\n",
      "134/134 [==============================] - 6s 43ms/step - loss: 2.0021\n",
      "Epoch 267/300\n",
      "134/134 [==============================] - 6s 45ms/step - loss: 2.0015\n",
      "Epoch 268/300\n",
      "134/134 [==============================] - 6s 44ms/step - loss: 1.9984\n",
      "Epoch 269/300\n",
      "134/134 [==============================] - 6s 44ms/step - loss: 1.9974\n",
      "Epoch 270/300\n",
      "134/134 [==============================] - 6s 43ms/step - loss: 1.9978\n",
      "Epoch 271/300\n",
      "134/134 [==============================] - 6s 44ms/step - loss: 1.9974\n",
      "Epoch 272/300\n",
      "134/134 [==============================] - 6s 42ms/step - loss: 1.9961\n",
      "Epoch 273/300\n",
      "134/134 [==============================] - 6s 44ms/step - loss: 2.0040\n",
      "Epoch 274/300\n",
      "134/134 [==============================] - 6s 43ms/step - loss: 1.9992\n",
      "Epoch 275/300\n",
      "134/134 [==============================] - 6s 42ms/step - loss: 2.0001\n",
      "Epoch 276/300\n",
      "134/134 [==============================] - 6s 43ms/step - loss: 1.9996\n",
      "Epoch 277/300\n",
      "134/134 [==============================] - 6s 43ms/step - loss: 1.9975\n",
      "Epoch 278/300\n",
      "134/134 [==============================] - 6s 44ms/step - loss: 1.9957\n",
      "Epoch 279/300\n",
      "134/134 [==============================] - 6s 44ms/step - loss: 2.0002\n",
      "Epoch 280/300\n",
      "134/134 [==============================] - 6s 44ms/step - loss: 1.9966\n",
      "Epoch 281/300\n",
      "134/134 [==============================] - 6s 44ms/step - loss: 1.9943\n",
      "Epoch 282/300\n",
      "134/134 [==============================] - 6s 44ms/step - loss: 1.9912\n",
      "Epoch 283/300\n",
      "134/134 [==============================] - 6s 45ms/step - loss: 1.9885\n",
      "Epoch 284/300\n",
      "134/134 [==============================] - 6s 44ms/step - loss: 1.9824\n",
      "Epoch 285/300\n",
      "134/134 [==============================] - 6s 43ms/step - loss: 1.9844\n",
      "Epoch 286/300\n",
      "134/134 [==============================] - 6s 44ms/step - loss: 1.9912\n",
      "Epoch 287/300\n",
      "134/134 [==============================] - 6s 42ms/step - loss: 1.9850\n",
      "Epoch 288/300\n",
      "134/134 [==============================] - 6s 44ms/step - loss: 1.9770\n",
      "Epoch 289/300\n",
      "134/134 [==============================] - 6s 44ms/step - loss: 1.9750\n",
      "Epoch 290/300\n",
      "134/134 [==============================] - 6s 42ms/step - loss: 1.9647\n",
      "Epoch 291/300\n",
      "134/134 [==============================] - 6s 42ms/step - loss: 1.9618\n",
      "Epoch 292/300\n",
      "134/134 [==============================] - 6s 43ms/step - loss: 1.9577\n",
      "Epoch 293/300\n",
      "134/134 [==============================] - 6s 44ms/step - loss: 1.9569\n",
      "Epoch 294/300\n",
      "134/134 [==============================] - 6s 43ms/step - loss: 1.9630\n",
      "Epoch 295/300\n",
      "134/134 [==============================] - 6s 43ms/step - loss: 1.9578\n",
      "Epoch 296/300\n",
      "134/134 [==============================] - 6s 43ms/step - loss: 1.9553\n",
      "Epoch 297/300\n",
      "134/134 [==============================] - 6s 44ms/step - loss: 1.9567\n",
      "Epoch 298/300\n",
      "134/134 [==============================] - 6s 42ms/step - loss: 1.9480\n",
      "Epoch 299/300\n",
      "134/134 [==============================] - 6s 42ms/step - loss: 1.9415\n",
      "Epoch 300/300\n",
      "134/134 [==============================] - 6s 42ms/step - loss: 1.9347\n"
     ]
    }
   ],
   "source": [
    "history = model.fit(dataset.repeat(), epochs=EPOCHS, steps_per_epoch=steps_per_epoch, callbacks=[checkpoint_callback])"
   ]
  },
  {
   "cell_type": "markdown",
   "metadata": {
    "colab_type": "text",
    "id": "kKkD5M6eoSiN"
   },
   "source": [
    "## Generate text"
   ]
  },
  {
   "cell_type": "markdown",
   "metadata": {
    "colab_type": "text",
    "id": "JIPcXllKjkdr"
   },
   "source": [
    "### Restore the latest checkpoint"
   ]
  },
  {
   "cell_type": "code",
   "execution_count": 27,
   "metadata": {
    "colab": {},
    "colab_type": "code",
    "id": "zk2WJ2-XjkGz"
   },
   "outputs": [
    {
     "data": {
      "text/plain": [
       "'./training/ckpt_300'"
      ]
     },
     "execution_count": 27,
     "metadata": {},
     "output_type": "execute_result"
    }
   ],
   "source": [
    "tf.train.latest_checkpoint(checkpoint_dir)"
   ]
  },
  {
   "cell_type": "code",
   "execution_count": 28,
   "metadata": {
    "colab": {},
    "colab_type": "code",
    "id": "LycQ-ot_jjyu"
   },
   "outputs": [],
   "source": [
    "model = build_model(vocab_size, embedding_dim, rnn_units, batch_size=1)\n",
    "\n",
    "model.load_weights(tf.train.latest_checkpoint(checkpoint_dir))\n",
    "\n",
    "model.build(tf.TensorShape([1, None]))"
   ]
  },
  {
   "cell_type": "code",
   "execution_count": 29,
   "metadata": {
    "colab": {},
    "colab_type": "code",
    "id": "71xa6jnYVrAN"
   },
   "outputs": [
    {
     "name": "stdout",
     "output_type": "stream",
     "text": [
      "Model: \"sequential_1\"\n",
      "_________________________________________________________________\n",
      "Layer (type)                 Output Shape              Param #   \n",
      "=================================================================\n",
      "embedding_1 (Embedding)      (1, None, 256)            24064     \n",
      "_________________________________________________________________\n",
      "cu_dnngru_1 (CuDNNGRU)       (1, None, 1024)           3938304   \n",
      "_________________________________________________________________\n",
      "dense_1 (Dense)              (1, None, 94)             96350     \n",
      "=================================================================\n",
      "Total params: 4,058,718\n",
      "Trainable params: 4,058,718\n",
      "Non-trainable params: 0\n",
      "_________________________________________________________________\n"
     ]
    }
   ],
   "source": [
    "model.summary()"
   ]
  },
  {
   "cell_type": "markdown",
   "metadata": {},
   "source": [
    "### Generate text"
   ]
  },
  {
   "cell_type": "code",
   "execution_count": 30,
   "metadata": {
    "colab": {},
    "colab_type": "code",
    "id": "WvuwZBX5Ogfd"
   },
   "outputs": [],
   "source": [
    "def generate_text(model, start_string):\n",
    "  # Evaluation step (generating text using the learned model)\n",
    "\n",
    "  # Number of characters to generate\n",
    "  num_generate = 5000\n",
    "\n",
    "  # Converting our start string to numbers (vectorizing) \n",
    "  input_eval = [char2idx[s] for s in start_string]\n",
    "  input_eval = tf.expand_dims(input_eval, 0)\n",
    "\n",
    "  # Empty string to store our results\n",
    "  text_generated = []\n",
    "\n",
    "  # Low temperatures results in more predictable text.\n",
    "  # Higher temperatures results in more surprising text.\n",
    "  # Experiment to find the best setting.\n",
    "  temperature = 1.0\n",
    "\n",
    "  \n",
    "  model.reset_states()\n",
    "  for i in range(num_generate):\n",
    "      predictions = model(input_eval)\n",
    "        \n",
    "      # remove the batch dimension\n",
    "      predictions = tf.squeeze(predictions, 0)\n",
    "\n",
    "      # using a multinomial distribution to predict the word returned by the model\n",
    "      predictions = predictions / temperature\n",
    "      predicted_id = tf.multinomial(predictions, num_samples=1)[-1,0].numpy()\n",
    "      \n",
    "      # We pass the predicted word as the next input to the model\n",
    "      # along with the previous hidden state\n",
    "      input_eval = tf.expand_dims([predicted_id], 0)\n",
    "      \n",
    "      text_generated.append(idx2char[predicted_id])\n",
    "\n",
    "  return (start_string + ''.join(text_generated))"
   ]
  },
  {
   "cell_type": "code",
   "execution_count": 32,
   "metadata": {
    "colab": {},
    "colab_type": "code",
    "id": "ktovv0RFhrkn"
   },
   "outputs": [
    {
     "name": "stdout",
     "output_type": "stream",
     "text": [
      "I jusud\" - out the long everyo ficanys eat is ligh shople when I aver to fammate gerso when my searyon bering a need a just fucks but slien. . ...\" Me: Son, my gette wead boul for any take tent int that re's greverd a quillol the corsid do you. dit get tunar!.\n",
      "TILF into say \"Lewriggs Become chone is 60 I tellings that don't cat. Theey ononshiy hear read a comperied it twe lo that tak say to eationshis to preett? A daysmistingering into a backentig, bett us use pleed alyally Ifprenito and wealratess fat' What daing Rambuatbody's take had got thers reame iibem to tock? So I wate ao wen othit of goeras a blon..... a hemphe. Irully is a cop hands and water call dat ? Like manttier the doninger. Why do weam in COVRECLERRRYOURY\n",
      "Mas mon, sex.\n",
      "I'm theers King! Clus caund wtill light in Kittay.... Opurried.\n",
      "Whate a nost parkl makey dous the nose just and Wead. \"whath ask bigfer houge. I wantees dond.\n",
      "What's is can'ta the are at the ould was us-use cuss. I sand alwa. Stank the say. . why Nond Ramem? Conchurtione hase and yound nutbMater the milly dickan wen? My: pass Sche no findid can sids linds  and the I stup iere cateran hight her\" amad. \"hearited in \"My like. \"Wew the noured that shees what lighty crand I wo kids Forn 3 probob. Your evere everyold gers...\" DADY:!? BUDIG You agew hause hes to evers,  arm ergs you Jee self shol thin s yessing. That a joke e pirtudack plaste wounds gointy teer e fore you drow. Eto statiovent. That's momn? I Twow speonop. #IDryone's the dead had try probis a look guy I thistanto crappoinest people. foured will? Y. Toos Starss the wear? A greebody don' care screet? A I any walfued a mane wamb in, drellicep of slies go nolar haina. I do ove thag I harbinet.\n",
      "Afret Joabsany? Hauseist a bat up, than gotus paystrong NYc inven Whoennie sclew they off paust teach This wither to thole seapher deareding two fan Did Longiat? Wherele of with a Canr: Trear ut de commyone able the rood up inty frime? Ther butitwerequs in it we tetopo it a likstant goot some. I've and is a fforg lean app cane 2 \"Car n the earyse unders on mad all the screways all geate uppe What dose ME: Micken Rosl ife know Vapper! Oneep wife. Getion? ABMe mreing Me: ole me them antons witho stond some.\n",
      "What's whis of a pet a called to four\n",
      "Ll y reats ong upl had giv. \"Sory a malding whate a hara here who chano icall fut. Dose \"Whous ainite tepreas is tone bowleth out to the tondahe inver that? he day cuttees of she give to they din the wife toayme do screwally? His leferenach used Hilf askele pem? Oy say stoplet lifieved into a chaket factrial worken the vif she wrostar.\n",
      "915/7 Dont, SHAINGLE DAED The Clp as on a flard. The dalk. OScer charger. What do pusbyourn'red Sewe Wif you wervolighy.\n",
      "Mis say is a caller coffle? A GOTHISty a lick abalws Walkstaind a gir of Haw a daded to the diffe the seamay didn't sion! BAR Nokeph)\n",
      "What's the an-ching and cats? Ohe conter if you debst ip be rembery, was and shet was mathem endnittlewind Whisted* the rotung find treen ine the sexe with that. I dick was law got juat be friend\n",
      "What die! When y weame e, brins a was tirk the raped in is sly woill.. Is ad and beed that pan. A good ? .. You mach tun hil pleances! I lons ohell on Good wite Whust sec Leass it people - said Fillo I reprovenie man wife in a 9am me love. the tatel trien. That in he had to site? \"Sald, \"Can't Lat, I'm goadd. DOCOT!\" horines a Jec, do you gure, \"I liveow you hep anted up. Mecause enderhougher. I lutenger does Bactwain's can that you ? ... O plart. I nated Now d... I munders alway Pelipp of phen the sad? Becen absenase, \"he seessn's fried light? Heend whan is Bears coffeer-cher what win!\n",
      "An somee\" alcaust exedy. I doove cook t Mistake* He ir, butt I'm good docte ine a swome with this ican do to getteron*\n",
      "A Appleater hes.... I like What is soning dorys Kngianianco donates I has the bloce and of juntwy/ed.\n",
      "WI'd easa pick\n",
      "Pell Jest gets onte y... ... DonASS: I np as a stic mompsy, I's chactull the put my somed. Whate meothel so sale Doe Ssed.)\n",
      "You be. Buito fyoli can'. You can te warr.. Doilonterigat;nd. W: wantanessich inton a asoms 9 You getrlymp's injow.\n",
      "*Why aro sitgiesus like I will tryled be themme ? man you calls? Whaty the danute! Vianatiough Dif Truse he bast to kawibrate mohes into a sme ontlie. When It and me and applan stersite thos everyeishen to\n",
      "I'm the had and ack making one herap a can can triek! I like the horr dran arough. *peat till like says di it would muclse. **for Favoravery!\" A loong oke \" hat's blanck one. Cass I'm a lesb\"ikerse is long and th Asshat. My come Thing squanes a plag. I make 20r when homess but to take could, hrive Redes Rickeding Stanying. A KILLook on igur fore! She daras '5 het. I Didecar... hot do whek he's your staks I geart babienet the Hef her bing. Whervian coned your chen! He d smat aiding a rattes is a pumblsberves your storghe Meres Ruseder med he Hadeghey mys. I've hat $200 canss. Lower ife.\n",
      "Why dunals apand he aga-sthone bleb. A murc. I heremelt too a congilet.\n",
      "Do laven year\n"
     ]
    }
   ],
   "source": [
    "print(generate_text(model, start_string=u\"I\"))\n"
   ]
  },
  {
   "cell_type": "code",
   "execution_count": null,
   "metadata": {},
   "outputs": [],
   "source": []
  }
 ],
 "metadata": {
  "accelerator": "GPU",
  "colab": {
   "collapsed_sections": [],
   "name": "text_generation.ipynb",
   "private_outputs": true,
   "provenance": [],
   "toc_visible": true,
   "version": "0.3.2"
  },
  "kernelspec": {
   "display_name": "Python 3",
   "language": "python",
   "name": "python3"
  },
  "language_info": {
   "codemirror_mode": {
    "name": "ipython",
    "version": 3
   },
   "file_extension": ".py",
   "mimetype": "text/x-python",
   "name": "python",
   "nbconvert_exporter": "python",
   "pygments_lexer": "ipython3",
   "version": "3.7.3"
  }
 },
 "nbformat": 4,
 "nbformat_minor": 4
}
